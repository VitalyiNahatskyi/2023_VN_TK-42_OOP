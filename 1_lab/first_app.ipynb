{
 "cells": [
  {
   "cell_type": "markdown",
   "metadata": {},
   "source": [
    "### Моя перша програма у Python"
   ]
  },
  {
   "cell_type": "code",
   "execution_count": 6,
   "metadata": {},
   "outputs": [
    {
     "name": "stdout",
     "output_type": "stream",
     "text": [
      "Vitaliy start programming at 2023-09-26 19:30:00.342014. Berlin is the best city!\n"
     ]
    }
   ],
   "source": [
    "from datetime import datetime\n",
    "name = \"Vitaliy\"\n",
    "location = \"Berlin\"\n",
    "\n",
    "print(f\"{name} start programming at {datetime.now()}. {location} is the best city!\")"
   ]
  },
  {
   "cell_type": "markdown",
   "metadata": {},
   "source": [
    "### Опис моєї першої програми"
   ]
  },
  {
   "cell_type": "markdown",
   "metadata": {},
   "source": [
    "- імпортуємо бібліотеки Python:"
   ]
  },
  {
   "cell_type": "code",
   "execution_count": 7,
   "metadata": {},
   "outputs": [],
   "source": [
    "from datetime import datetime"
   ]
  },
  {
   "cell_type": "markdown",
   "metadata": {},
   "source": [
    "- задаємо свої дані у змінні:"
   ]
  },
  {
   "cell_type": "code",
   "execution_count": 8,
   "metadata": {},
   "outputs": [],
   "source": [
    "name = \"Vitaliy\"\n",
    "location = \"Berlin\""
   ]
  },
  {
   "cell_type": "markdown",
   "metadata": {},
   "source": [
    "- використувуємо функцію print зі своїми даними для виводу тексту:"
   ]
  },
  {
   "cell_type": "code",
   "execution_count": 9,
   "metadata": {},
   "outputs": [
    {
     "name": "stdout",
     "output_type": "stream",
     "text": [
      "Vitaliy start programming at 2023-09-26 19:30:00.355676. Berlin is the best city!\n"
     ]
    }
   ],
   "source": [
    "print(f\"{name} start programming at {datetime.now()}. {location} is the best city!\")"
   ]
  },
  {
   "cell_type": "markdown",
   "metadata": {},
   "source": [
    "### Запитався яку програму би зробив AI ChatGPT"
   ]
  },
  {
   "cell_type": "markdown",
   "metadata": {},
   "source": [
    "Звісно, давайте створимо просту програму на Python, яка реалізує калькулятор для виконання базових математичних операцій. Ця програма буде приймати від користувача числа та операцію, яку він хоче виконати (додавання, віднімання, множення або ділення), і повертати результат обчислення. Давайте розглянемо код:"
   ]
  },
  {
   "cell_type": "code",
   "execution_count": 10,
   "metadata": {},
   "outputs": [
    {
     "name": "stdout",
     "output_type": "stream",
     "text": [
      "Виберіть операцію:\n",
      "1. Додавання\n",
      "2. Віднімання\n",
      "3. Множення\n",
      "4. Ділення\n",
      "Результат: 40.0\n"
     ]
    }
   ],
   "source": [
    "def додавання(x, y):\n",
    "    return x + y\n",
    "\n",
    "def віднімання(x, y):\n",
    "    return x - y\n",
    "\n",
    "def множення(x, y):\n",
    "    return x * y\n",
    "\n",
    "def ділення(x, y):\n",
    "    if y == 0:\n",
    "        return \"Ділення на нуль неможливе\"\n",
    "    return x / y\n",
    "\n",
    "print(\"Виберіть операцію:\")\n",
    "print(\"1. Додавання\")\n",
    "print(\"2. Віднімання\")\n",
    "print(\"3. Множення\")\n",
    "print(\"4. Ділення\")\n",
    "\n",
    "вибір = input(\"Введіть номер операції (1/2/3/4): \")\n",
    "\n",
    "число1 = float(input(\"Введіть перше число: \"))\n",
    "число2 = float(input(\"Введіть друге число: \"))\n",
    "\n",
    "if вибір == '1':\n",
    "    print(\"Результат:\", додавання(число1, число2))\n",
    "elif вибір == '2':\n",
    "    print(\"Результат:\", віднімання(число1, число2))\n",
    "elif вибір == '3':\n",
    "    print(\"Результат:\", множення(число1, число2))\n",
    "elif вибір == '4':\n",
    "    print(\"Результат:\", ділення(число1, число2))\n",
    "else:\n",
    "    print(\"Невірний вибір операції\")\n"
   ]
  },
  {
   "cell_type": "markdown",
   "metadata": {},
   "source": [
    "> Зверху ми здійснили операцію додавання числа 20 та числа 20. В результаті ми отримали 40. Ми можем переконатись що штучний інтелект зробив все правильно, тобто програма робоча та виконує своє завдання."
   ]
  },
  {
   "cell_type": "markdown",
   "metadata": {},
   "source": [
    "Ця програма складається з функцій для виконання чотирьох математичних операцій (додавання, віднімання, множення і ділення) і основної частини, де користувач може вибрати операцію та ввести числа для обчислення. Результат виводиться на екран.\n",
    "\n",
    "Програма використовує умовні оператори (if, elif, else) для визначення обраної операції та обробки можливих помилок, таких як ділення на нуль.\n",
    "\n",
    "Ця програма дає користувачеві можливість обчислити результат базових математичних операцій, і вона може бути розширена або модифікована для включення інших операцій або функціональності в майбутньому."
   ]
  }
 ],
 "metadata": {
  "kernelspec": {
   "display_name": "Python 3",
   "language": "python",
   "name": "python3"
  },
  "language_info": {
   "codemirror_mode": {
    "name": "ipython",
    "version": 3
   },
   "file_extension": ".py",
   "mimetype": "text/x-python",
   "name": "python",
   "nbconvert_exporter": "python",
   "pygments_lexer": "ipython3",
   "version": "3.11.5"
  },
  "orig_nbformat": 4
 },
 "nbformat": 4,
 "nbformat_minor": 2
}
