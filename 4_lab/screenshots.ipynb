{
 "cells": [
  {
   "cell_type": "markdown",
   "metadata": {},
   "source": [
    "### Скріншоти під час виконання роботи з віртуальними середовищави"
   ]
  },
  {
   "cell_type": "markdown",
   "metadata": {},
   "source": [
    "#### Команди pip -V та pip --help:\n",
    "![pip1](pictures/pip1.png)"
   ]
  },
  {
   "cell_type": "markdown",
   "metadata": {},
   "source": [
    "#### Команда pip install:\n",
    "![pip2](pictures/pip3.png)"
   ]
  },
  {
   "cell_type": "markdown",
   "metadata": {},
   "source": [
    "#### Команди pip show, pip install, pip uninstall:\n",
    "![pip4](pictures/pip4.png)"
   ]
  },
  {
   "cell_type": "markdown",
   "metadata": {},
   "source": [
    "#### Робота у віртуальному середовищу: \n",
    "python -m venv ./my_env;\n",
    "source my_env/Scripts/activate;\n",
    "pip install requests;\n",
    "deactivate;\n",
    "pip show requests;\n",
    "![pip5](pictures/pip5.png)"
   ]
  },
  {
   "cell_type": "markdown",
   "metadata": {},
   "source": [
    "#### Робота з pipenv: \n",
    "pip install pipenv;\n",
    "pipenv --help;\n",
    "![pip6](pictures/pip6.png)\n"
   ]
  },
  {
   "cell_type": "markdown",
   "metadata": {},
   "source": [
    "#### Команди:\n",
    "pipenv --python 3.10, pipenv --venv, pipenv run python -V, pipenv install requests\n",
    "![pip7](pictures/pip7.png)"
   ]
  },
  {
   "cell_type": "markdown",
   "metadata": {},
   "source": [
    "#### Запуски програми за допомогою pipenv shell\n",
    "![pip8](pictures/pip8.png)"
   ]
  },
  {
   "cell_type": "markdown",
   "metadata": {},
   "source": [
    "#### Зміна інтерпретатора:\n",
    "![inter](pictures/inter.png)"
   ]
  }
 ],
 "metadata": {
  "language_info": {
   "name": "python"
  }
 },
 "nbformat": 4,
 "nbformat_minor": 2
}
