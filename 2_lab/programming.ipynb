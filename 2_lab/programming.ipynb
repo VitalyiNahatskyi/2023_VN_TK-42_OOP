{
 "cells": [
  {
   "cell_type": "markdown",
   "metadata": {},
   "source": [
    "### Основи програмування на Python\n",
    "\n",
    "#### Основні типи даних та прості змінні (list, dict, set )\n",
    "- текстовий та чисельний типи даних:"
   ]
  },
  {
   "cell_type": "code",
   "execution_count": 83,
   "metadata": {},
   "outputs": [
    {
     "name": "stdout",
     "output_type": "stream",
     "text": [
      "Це просто стрічка\n",
      "3.14\n",
      "str1\n"
     ]
    }
   ],
   "source": [
    "print (\"Це просто стрічка\")\n",
    "a = \"str\" # це стрічка яка є змінною a\n",
    "b = 1 # це числовий тип данних з змінною b\n",
    "c = \"1\" # це текст , а не цифра \n",
    "f = float(3.14) # це число з комою\n",
    "v = a + c\n",
    "print (f)\n",
    "print (v)\n",
    "# print(b + c) - так робити не можна, тому що це різні типи даних!\n"
   ]
  },
  {
   "cell_type": "markdown",
   "metadata": {},
   "source": [
    "-  list, dict, set:"
   ]
  },
  {
   "cell_type": "code",
   "execution_count": 84,
   "metadata": {},
   "outputs": [
    {
     "name": "stdout",
     "output_type": "stream",
     "text": [
      "Раян Гослінг у фільмі Драйв\n",
      "Раян Гослінг у фільмі Драйв\n",
      "{'Актор', 'фільм'}\n",
      "Актор\n"
     ]
    }
   ],
   "source": [
    "film = [\"Раян Гослінг\", \"Драйв\"] # це список\n",
    "print (film[0],\"у фільмі\", film[1])\n",
    "dd = {\"Актор\": \"Раян Гослінг\",\"фільм\":\"Драйв\"} # це словник \n",
    "print (dd[\"Актор\"],\"у фільмі\", dd[\"фільм\"]) \n",
    "ss = set(dd) # це Set\n",
    "print(ss)\n",
    "print(ss.pop())"
   ]
  },
  {
   "cell_type": "markdown",
   "metadata": {},
   "source": [
    "#### Вбудовані константи\n"
   ]
  },
  {
   "cell_type": "code",
   "execution_count": 85,
   "metadata": {},
   "outputs": [
    {
     "name": "stdout",
     "output_type": "stream",
     "text": [
      "<class 'bool'> - <class 'bool'>\n",
      "False\n",
      "True\n"
     ]
    }
   ],
   "source": [
    "a = False \n",
    "b = True \n",
    "c = float(3.14)\n",
    "d = 1\n",
    "f = 1\n",
    "print(type(a), \"-\", type(b))\n",
    "print(c==d) # виведе false, тому що різні цифри\n",
    "print(d==f) # виведе true, тому що одинакові цифри\n",
    "\n"
   ]
  },
  {
   "cell_type": "markdown",
   "metadata": {},
   "source": [
    "#### Вбудовані функції"
   ]
  },
  {
   "cell_type": "code",
   "execution_count": 86,
   "metadata": {},
   "outputs": [
    {
     "name": "stdout",
     "output_type": "stream",
     "text": [
      "132 4324\n",
      "125\n"
     ]
    }
   ],
   "source": [
    "numbers = (324, 244, 434, 232, 4324, 132)\n",
    "print (min(numbers),max(numbers) ) # функції min max які знаходять мінімальне або максимальне значення\n",
    "\n",
    "a = 5\n",
    "b = 3\n",
    "print (pow(5,3)) # функція підняття у степінь"
   ]
  },
  {
   "cell_type": "markdown",
   "metadata": {},
   "source": [
    "#### Цикли for та while"
   ]
  },
  {
   "cell_type": "code",
   "execution_count": 87,
   "metadata": {},
   "outputs": [
    {
     "name": "stdout",
     "output_type": "stream",
     "text": [
      "6\n",
      "8\n",
      "4\n",
      "6\n",
      "1\n",
      "5\n",
      "Столиця Німеччини - Берлін \n",
      "Столиця України - Київ \n",
      "Столиця Іспанії - Мадрид \n"
     ]
    }
   ],
   "source": [
    "from random import choice # цикл while\n",
    "numbers = (1, 2, 3, 4, 5, 6, 7 , 8 ,9 ,10)\n",
    "end = None\n",
    "while end != 5:\n",
    "    end = choice(numbers)\n",
    "    print(end)\n",
    "\n",
    "countries_capitals = {'Німеччини': 'Берлін', 'України': 'Київ', 'Іспанії': 'Мадрид'} # цикл for\n",
    "for country, capital in countries_capitals.items():\n",
    "    print(f\"Столиця {country} - {capital} \")\n"
   ]
  },
  {
   "cell_type": "markdown",
   "metadata": {},
   "source": [
    "#### Розгалуження"
   ]
  },
  {
   "cell_type": "code",
   "execution_count": 88,
   "metadata": {},
   "outputs": [
    {
     "name": "stdout",
     "output_type": "stream",
     "text": [
      "Зараз вечір\n"
     ]
    }
   ],
   "source": [
    "import datetime\n",
    "\n",
    "current_time = datetime.datetime.now()\n",
    "current_hour = current_time.hour\n",
    "\n",
    "if 6 <= current_hour < 12:\n",
    "    print(\"Зараз ранок\")\n",
    "elif 12 <= current_hour < 18:\n",
    "    print(\"Зараз день\")\n",
    "elif 18 <= current_hour < 24:\n",
    "    print(\"Зараз вечір\")\n",
    "else:\n",
    "    print(\"Зараз ніч\")\n"
   ]
  },
  {
   "cell_type": "markdown",
   "metadata": {},
   "source": [
    "#### Конструкція try->except->finally"
   ]
  },
  {
   "cell_type": "code",
   "execution_count": 89,
   "metadata": {},
   "outputs": [
    {
     "name": "stdout",
     "output_type": "stream",
     "text": [
      "Числа можна ділити тільки на числа, а тут ділиться на стрічку, що викликає помилку TypeError \n",
      "Тому поділим число 5 на 5: 1.0\n"
     ]
    }
   ],
   "source": [
    "try:\n",
    "    print(5/\"str\")\n",
    "except TypeError:\n",
    "    print(\"Числа можна ділити тільки на числа, а тут ділиться на стрічку, що викликає помилку TypeError \")\n",
    "finally:\n",
    "    print(\"Тому поділим число 5 на 5:\", 5/5)"
   ]
  },
  {
   "cell_type": "markdown",
   "metadata": {},
   "source": [
    "#### Контекст менеджер"
   ]
  },
  {
   "cell_type": "code",
   "execution_count": 90,
   "metadata": {},
   "outputs": [],
   "source": [
    "f = open(\"lambda.txt\", \"r+\",encoding=\"UTF-8\") # копіюєм з інтернету малюнок лямбди та записуєм його у файл lambda.txt\n",
    "f.write(\n",
    "    \"⠀⠀⢀⣤⣤⣤⣤⣀⠀⠀⠀⠀⠀⠀⠀⠀⠀\\n\"\n",
    "    \"⠀⠀⢸⣿⣿⣿⣿⣿⣷⡀⠀⠀⠀⠀⠀⠀⠀\\n\"\n",
    "    \"⠀⠀⠘⠉⠉⠙⣿⣿⣿⣷⠀⠀⠀⠀⠀⠀⠀\\n\"\n",
    "    \"⠀⠀⠀⠀⠀⠀⢸⣿⣿⣿⣧⠀⠀⠀⠀⠀⠀\\n\"\n",
    "    \"⠀⠀⠀⠀⠀⠀⣼⣿⣿⣿⣿⣆⠀⠀⠀⠀⠀\\n\"\n",
    "    \"⠀⠀⠀⠀⠀⣼⣿⣿⣿⣿⣿⣿⡀⠀⠀⠀⠀\\n\"\n",
    "    \"⠀⠀⠀⠀⣴⣿⣿⣿⠟⣿⣿⣿⣷⠀⠀⠀⠀\\n\"\n",
    "    \"⠀⠀⠀⣰⣿⣿⣿⡏⠀⠸⣿⣿⣿⣇⠀⠀⠀\\n\"\n",
    "    \"⠀⠀⢠⣿⣿⣿⡟⠀⠀⠀⢻⣿⣿⣿⡆⠀⠀\\n\"\n",
    "    \"⠀⢠⣿⣿⣿⡿⠀⠀⠀⠀⠀⢿⣿⣿⣷⣤⡄\\n\"\n",
    "    \"⢀⣾⣿⣿⣿⠁⠀⠀⠀⠀⠀⠈⠿⣿⣿⣿⡇\"\n",
    ")\n",
    "f.close()"
   ]
  },
  {
   "cell_type": "markdown",
   "metadata": {},
   "source": [
    "#### Lambdas, Лямбди"
   ]
  },
  {
   "cell_type": "code",
   "execution_count": 91,
   "metadata": {},
   "outputs": [
    {
     "name": "stdout",
     "output_type": "stream",
     "text": [
      "Найбільше букв у слові - Собака\n"
     ]
    }
   ],
   "source": [
    "words = ['Кіт','Собака','Павук','Лев']\n",
    "long_word = max(words, key=lambda word: len(word))\n",
    "print(f\"Найбільше букв у слові - {long_word}\")"
   ]
  }
 ],
 "metadata": {
  "kernelspec": {
   "display_name": "Python 3",
   "language": "python",
   "name": "python3"
  },
  "language_info": {
   "codemirror_mode": {
    "name": "ipython",
    "version": 3
   },
   "file_extension": ".py",
   "mimetype": "text/x-python",
   "name": "python",
   "nbconvert_exporter": "python",
   "pygments_lexer": "ipython3",
   "version": "3.11.5"
  }
 },
 "nbformat": 4,
 "nbformat_minor": 2
}
